{
 "cells": [
  {
   "cell_type": "code",
   "execution_count": 2,
   "id": "4cabb5cf-ea4b-4eff-b568-60e236713404",
   "metadata": {},
   "outputs": [],
   "source": [
    "from openai import OpenAI\n",
    "import os"
   ]
  },
  {
   "cell_type": "code",
   "execution_count": 3,
   "id": "a2a0474c-6c6b-434c-aba0-ab74fd814abe",
   "metadata": {},
   "outputs": [],
   "source": [
    "api_key = os.getenv(\"OPENAI_API_KEY\")"
   ]
  },
  {
   "cell_type": "code",
   "execution_count": 4,
   "id": "a4fb94ea-0ff8-4e68-8e33-3b0f79dd91a6",
   "metadata": {},
   "outputs": [],
   "source": [
    "client = OpenAI(api_key=api_key)"
   ]
  },
  {
   "cell_type": "code",
   "execution_count": 8,
   "id": "3a60667c-f496-40b1-b7af-49fdbe74bb53",
   "metadata": {},
   "outputs": [],
   "source": [
    "response = client.chat.completions.create(\n",
    "    model='gpt-4o',\n",
    "    messages=[{\"role\":\"user\", \"content\":\"is it too late to join the course?\"}]\n",
    ")"
   ]
  },
  {
   "cell_type": "code",
   "execution_count": 17,
   "id": "98798805-9456-4f6d-a542-b6e76e909620",
   "metadata": {},
   "outputs": [],
   "source": [
    "message = response.choices[0].message.content"
   ]
  },
  {
   "cell_type": "code",
   "execution_count": 18,
   "id": "a1381731-a275-4985-969b-8c4606d5e599",
   "metadata": {},
   "outputs": [
    {
     "data": {
      "text/plain": [
       "\"It depends on several factors, such as the specific course, the policies of the institution offering it, and how far into the course you are trying to join. Here are a few steps you can take to find out:\\n\\n1. **Check Enrollment Deadlines**: Most courses will have a specific deadline for enrollment. You can usually find this information on the course's webpage or by contacting the institution's admissions office.\\n\\n2. **Contact the Instructor or Institution**: Sometimes instructors or administrative staff can make exceptions to enrollment deadlines, especially if you have a compelling reason for joining late. It’s worth reaching out to explain your situation and inquire about the possibility of joining.\\n\\n3. **Review Course Progress**: If the course has already started, consider how much material has been covered and whether you will be able to catch up. Some courses may have flexible schedules or recorded lectures that make it easier for latecomers to catch up.\\n\\n4. **Consider Alternative Options**: If you’ve missed the deadline for your first choice, see if the same course is available in a future term or if similar courses are available.\\n\\n5. **Online Courses**: Many online platforms offer courses that you can start at any time. If the course you're interested in is available online, this may be an alternative worth exploring.\\n\\n6. **Waitlist**: Some courses have a waitlist option. Even if it seems too late, you might be able to join the waitlist and still get a chance to enroll if a spot opens up.\\n\\nCheck these details and then make your move accordingly.\""
      ]
     },
     "execution_count": 18,
     "metadata": {},
     "output_type": "execute_result"
    }
   ],
   "source": [
    "message"
   ]
  },
  {
   "cell_type": "code",
   "execution_count": null,
   "id": "720b1c48-afba-47d0-bf9e-1be3893d6261",
   "metadata": {},
   "outputs": [],
   "source": []
  }
 ],
 "metadata": {
  "kernelspec": {
   "display_name": "Python 3 (ipykernel)",
   "language": "python",
   "name": "python3"
  },
  "language_info": {
   "codemirror_mode": {
    "name": "ipython",
    "version": 3
   },
   "file_extension": ".py",
   "mimetype": "text/x-python",
   "name": "python",
   "nbconvert_exporter": "python",
   "pygments_lexer": "ipython3",
   "version": "3.12.1"
  }
 },
 "nbformat": 4,
 "nbformat_minor": 5
}
